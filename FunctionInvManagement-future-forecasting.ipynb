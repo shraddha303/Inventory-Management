{
 "cells": [
  {
   "cell_type": "code",
   "execution_count": 1,
   "metadata": {},
   "outputs": [],
   "source": [
    "import numpy as np\n",
    "import pandas as pd\n",
    "\n",
    "from statsmodels.tsa.stattools import adfuller\n",
    "from pandas.plotting import autocorrelation_plot\n",
    "from fbprophet import Prophet\n",
    "from fbprophet.plot import plot_plotly\n",
    "\n",
    "import statsmodels.api as sm\n",
    "import matplotlib.pyplot as plt\n",
    "%matplotlib inline\n",
    "\n",
    "import time\n",
    "import datetime\n",
    "from datetime import date\n",
    "\n",
    "import warnings\n",
    "warnings.filterwarnings(\"ignore\")"
   ]
  },
  {
   "cell_type": "code",
   "execution_count": 2,
   "metadata": {},
   "outputs": [],
   "source": [
    "dataset=pd.read_excel(r'DataGH.xlsx')"
   ]
  },
  {
   "cell_type": "code",
   "execution_count": 3,
   "metadata": {},
   "outputs": [],
   "source": [
    "futureData = pd.read_excel(r'futureData_GH.xlsx')"
   ]
  },
  {
   "cell_type": "code",
   "execution_count": 4,
   "metadata": {},
   "outputs": [],
   "source": [
    "dataset.dropna(inplace=True)"
   ]
  },
  {
   "cell_type": "code",
   "execution_count": 5,
   "metadata": {},
   "outputs": [
    {
     "data": {
      "text/plain": [
       "(46033, 15)"
      ]
     },
     "execution_count": 5,
     "metadata": {},
     "output_type": "execute_result"
    }
   ],
   "source": [
    "dataset.shape"
   ]
  },
  {
   "cell_type": "code",
   "execution_count": 6,
   "metadata": {},
   "outputs": [],
   "source": [
    "dataset.columns = ['ds', 'Product Category', 'SKU', 'y', 'Inf count', 'WeekDay',\n",
    "       'Weekend', 'Launch_Event', 'BOGO_Event', 'Other_Event','Facebook FOLLOWERS COUNT', 'Instagram FOLLOWERS COUNT', 'Twitch FOLLOWERS COUNT', 'Twitter FOLLOWERS COUNT', 'YouTube FOLLOWERS COUNT']"
   ]
  },
  {
   "cell_type": "code",
   "execution_count": 47,
   "metadata": {},
   "outputs": [],
   "source": [
    "#IF WE WANT TO FORECAST FOR THESE TWO SKU'S\n",
    "category_data = dataset.loc[[x in ['SKU1','SKU21'] for x in dataset.SKU],:]"
   ]
  },
  {
   "cell_type": "code",
   "execution_count": 49,
   "metadata": {},
   "outputs": [],
   "source": [
    "n_category_sku = category_data.SKU.nunique()\n",
    "category_sku = category_data.SKU.unique()"
   ]
  },
  {
   "cell_type": "code",
   "execution_count": 50,
   "metadata": {},
   "outputs": [
    {
     "data": {
      "text/plain": [
       "2"
      ]
     },
     "execution_count": 50,
     "metadata": {},
     "output_type": "execute_result"
    }
   ],
   "source": [
    "n_category_sku"
   ]
  },
  {
   "cell_type": "code",
   "execution_count": 51,
   "metadata": {},
   "outputs": [
    {
     "data": {
      "text/plain": [
       "(367, 15)"
      ]
     },
     "execution_count": 51,
     "metadata": {},
     "output_type": "execute_result"
    }
   ],
   "source": [
    "category_data.shape"
   ]
  },
  {
   "cell_type": "code",
   "execution_count": 52,
   "metadata": {},
   "outputs": [],
   "source": [
    "data = category_data.groupby(['ds']).sum()[['y']]"
   ]
  },
  {
   "cell_type": "code",
   "execution_count": 53,
   "metadata": {},
   "outputs": [],
   "source": [
    "data.reset_index(inplace=True)"
   ]
  },
  {
   "cell_type": "code",
   "execution_count": 54,
   "metadata": {},
   "outputs": [],
   "source": [
    "category_data = data.merge(category_data[['ds', 'Inf count', 'WeekDay',\n",
    "       'Weekend', 'Launch_Event', 'BOGO_Event', 'Other_Event','Facebook FOLLOWERS COUNT', 'Instagram FOLLOWERS COUNT', 'Twitch FOLLOWERS COUNT', 'Twitter FOLLOWERS COUNT', 'YouTube FOLLOWERS COUNT']], \n",
    "           how='inner', on='ds')"
   ]
  },
  {
   "cell_type": "code",
   "execution_count": 55,
   "metadata": {},
   "outputs": [],
   "source": [
    "data= category_data"
   ]
  },
  {
   "cell_type": "markdown",
   "metadata": {},
   "source": [
    "### Checking Stationarity"
   ]
  },
  {
   "cell_type": "code",
   "execution_count": 56,
   "metadata": {},
   "outputs": [],
   "source": [
    "#Ho: It is non stationary\n",
    "#H1: It is stationary\n",
    "\n",
    "def adfuller_test(qty):\n",
    "    result=adfuller(qty)\n",
    "    labels = ['ADF Test Statistic','p-value','#Lags Used','Number of Observations Used']\n",
    "    for value,label in zip(result,labels):\n",
    "        print(label+' : '+str(value) )\n",
    "    if result[1] <= 0.05:\n",
    "        print(\"strong evidence against the null hypothesis(Ho), reject the null hypothesis. Data has no unit root and is stationary\")\n",
    "    else:\n",
    "        print(\"weak evidence against null hypothesis, time series has a unit root, indicating it is non-stationary \")\n",
    "    "
   ]
  },
  {
   "cell_type": "code",
   "execution_count": 57,
   "metadata": {},
   "outputs": [],
   "source": [
    "def differencing(data):\n",
    "    shift_value=[]\n",
    "    diff = []\n",
    "    for i in range(1,30):\n",
    "        dataset = data - data.shift(i)\n",
    "        test_result = adfuller(dataset.dropna())\n",
    "        if test_result[1] <= 0.05:\n",
    "            shift_value.append(i)\n",
    "            diff.append(test_result[1])\n",
    "    \n",
    "    shift_value= pd.DataFrame(shift_value, columns=['Shift'])\n",
    "    diff= pd.DataFrame(diff, columns = ['Diff'])\n",
    "    \n",
    "    Diff_DF = pd.concat([shift_value, diff], axis=1)\n",
    "    \n",
    "    return Diff_DF"
   ]
  },
  {
   "cell_type": "code",
   "execution_count": 58,
   "metadata": {},
   "outputs": [],
   "source": [
    "def create_data_sarimax(data):\n",
    "    data_1_1 = data.copy()\n",
    "    # creating test data\n",
    "    condition = (((data_1_1.index.month==5) | (data_1_1.index.month==6)| (data_1_1.index.month==7))\n",
    "                    & (data_1_1.index.year==2020))\n",
    "    test_1_1 = data_1_1.loc[condition]\n",
    "    train_1_1 = data_1_1.loc[~condition]\n",
    "    #test_1_1[\"ds\"]=test_1_1.index\n",
    "    return train_1_1, test_1_1"
   ]
  },
  {
   "cell_type": "code",
   "execution_count": 59,
   "metadata": {},
   "outputs": [],
   "source": [
    "def create_data_prophet(data):\n",
    "    # creating test data\n",
    "    data_1_2 = data.copy()\n",
    "    condition = (((data_1_2.ds.dt.month==5) | (data_1_2.ds.dt.month==6) | (data_1_2.ds.dt.month==7))\n",
    "                    & (data_1_2.ds.dt.year==2020))\n",
    "    test_1_2 = data_1_2.loc[condition]\n",
    "    train_1_2 = data_1_2.loc[~condition]\n",
    "\n",
    "    return train_1_2, test_1_2"
   ]
  },
  {
   "cell_type": "code",
   "execution_count": 60,
   "metadata": {},
   "outputs": [],
   "source": [
    "arma = []\n",
    "sku_stationarity = []\n",
    "less_records = []\n",
    "rec_ten = []"
   ]
  },
  {
   "cell_type": "code",
   "execution_count": 61,
   "metadata": {
    "scrolled": true
   },
   "outputs": [],
   "source": [
    "def uni_sarimax(data):\n",
    "    data_0 = data.copy()\n",
    "    data_0.set_index('ds', inplace=True)\n",
    "    train_0, test_0 = create_data_sarimax(data_0)\n",
    "    df_0 = pd.DataFrame()\n",
    "    result_0 = np.nan\n",
    "    if (len(test_0)>4) & (len(train_0)>7):\n",
    "        # finding optimal p and q\n",
    "        a = sm.tsa.arma_order_select_ic(train_0['Seasonal First Difference'].dropna(), max_ar=6, max_ma=6, ic='aic', trend='c')\n",
    "        p= a['aic_min_order'][0]\n",
    "        q= a['aic_min_order'][1]\n",
    "        arma.append(a['aic_min_order'])\n",
    "\n",
    "        model_0 = sm.tsa.statespace.SARIMAX(train_0['y'],\n",
    "                                          order= (p,1,q) , seasonal_order= (p,1,q,7),\n",
    "                                      #,mle_regression=True, \n",
    "                                          initialization='approximate_diffuse')\n",
    "        start_params = np.r_[[0] * (model_0.k_params - 1), 1]\n",
    "        result_0 = model_0.fit(start_params=start_params)\n",
    "        pred = result_0.forecast(len(test_0))\n",
    "\n",
    "        pred = pd.DataFrame(pred, columns=['yhat'])\n",
    "        #pred_ci = pd.DataFrame()\n",
    "       # pred_ci = result.get_forecast(len(test))\n",
    "        pred.index= test_0.index\n",
    "      #  pred_ci.index = test.index\n",
    "        \n",
    "        df_0 =pd.concat([test_0, pred], axis=1)\n",
    "        df_0['model']= 'uni_sarimax'\n",
    "        \n",
    "     #   df_0['ds'] = df_0.index\n",
    "      #  test_0['ds'] = test_0.index\n",
    "    \n",
    "    \n",
    "    return df_0, result_0, test_0, train_0\n"
   ]
  },
  {
   "cell_type": "code",
   "execution_count": 62,
   "metadata": {
    "scrolled": true
   },
   "outputs": [],
   "source": [
    "def multi_sarimax(data):\n",
    "    data_1 = data.copy()\n",
    "    data_1.set_index('ds', inplace=True)\n",
    "    train_1, test_1 = create_data_sarimax(data_1)\n",
    "    df_1 = pd.DataFrame()\n",
    "    result_1 = np.nan\n",
    "    if len(test_1)>4 & (len(train_1)>7):\n",
    "        # finding optimal p and q\n",
    "        a = sm.tsa.arma_order_select_ic(train_1['Seasonal First Difference'].dropna(), max_ar=6, max_ma=6, ic='aic', trend='c')\n",
    "        p= a['aic_min_order'][0]\n",
    "        q= a['aic_min_order'][1]\n",
    "        arma.append(a['aic_min_order'])\n",
    "\n",
    "        model_1 = sm.tsa.statespace.SARIMAX(train_1['y'],\n",
    "                                              exog=train_1[['Inf count','WeekDay', 'Weekend', 'Launch_Event', 'BOGO_Event','Other_Event','Facebook FOLLOWERS COUNT', 'Instagram FOLLOWERS COUNT', 'Twitch FOLLOWERS COUNT', 'Twitter FOLLOWERS COUNT', 'YouTube FOLLOWERS COUNT']].values,\n",
    "                                          order= (p,1,q) , seasonal_order= (p,1,q,7),\n",
    "                                      #,mle_regression=True, \n",
    "                                          initialization='approximate_diffuse')\n",
    "        start_params = np.r_[[0] * (model_1.k_params - 1), 1]\n",
    "        result_1 = model_1.fit(start_params=start_params)\n",
    "        pred = result_1.forecast(len(test_1),\n",
    "                               exog=test_1[['Inf count','WeekDay', 'Weekend', 'Launch_Event', 'BOGO_Event','Other_Event','Facebook FOLLOWERS COUNT', 'Instagram FOLLOWERS COUNT', 'Twitch FOLLOWERS COUNT', 'Twitter FOLLOWERS COUNT', 'YouTube FOLLOWERS COUNT']].values)\n",
    "\n",
    "        pred = pd.DataFrame(pred, columns=['yhat'])\n",
    "       # pred_ci = pd.DataFrame()\n",
    "      #  pred_ci = result.get_forecast(len(test),\n",
    "     #                                exog=train[['Inf count','WeekDay', 'Weekend', 'Launch_Event', 'BOGO_Event','Other_Event']].values)\n",
    "        pred.index= test_1.index\n",
    "       # pred_ci.index = test.index\n",
    "        df_1 =pd.concat([test_1, pred], axis=1)\n",
    "        df_1['model']= 'multi_sarimax'\n",
    "        #df_1.reset_index(inplace=True)\n",
    "        df_1['ds'] = df_1.index\n",
    "        #test_1['ds'] = test_1.index\n",
    "\n",
    "    return df_1, result_1, test_1\n"
   ]
  },
  {
   "cell_type": "code",
   "execution_count": 63,
   "metadata": {},
   "outputs": [],
   "source": [
    "def uni_prophet(data):\n",
    "    data_2 = data.copy()\n",
    "    data_2.reset_index(inplace=True)\n",
    "    del data_2['index']\n",
    "    train_2, test_2 = create_data_prophet(data_2)\n",
    "    df_2 = pd.DataFrame()\n",
    "    pro_basic_2 = np.nan\n",
    "    if len(test_2)>4 & (len(train_2)>7):\n",
    "        X_test_2 = test_2[['ds']]\n",
    "        \n",
    "        pro_basic_2 = Prophet()\n",
    "        train_2 = train_2[['ds','y']]\n",
    "        pro_basic_2.fit(train_2)\n",
    "        \n",
    "        pred = pro_basic_2.predict(X_test_2)[['ds','yhat']]\n",
    "        \n",
    "        df_2 = pred.merge(test_2[['ds','y']], how='inner', on='ds')\n",
    "        \n",
    "       \n",
    "        pred = pd.DataFrame(pred)\n",
    "       # pred_ci = pd.DataFrame()\n",
    "      #  pred_ci = result.get_forecast(len(test),\n",
    "     #                                exog=train[['Inf count','WeekDay', 'Weekend', 'Launch_Event', 'BOGO_Event','Other_Event']].values)\n",
    "        #pred.index= test.index\n",
    "       # pred_ci.index = test.index\n",
    "       \n",
    "        df_2['model']= 'uni_prophet'\n",
    "        \n",
    "\n",
    "    return df_2, pro_basic_2, test_2\n"
   ]
  },
  {
   "cell_type": "code",
   "execution_count": 64,
   "metadata": {},
   "outputs": [],
   "source": [
    "def multi_prophet(data):\n",
    "    data_3 = data.copy()\n",
    "    data_3.reset_index(inplace=True)\n",
    "    del data_3['index']\n",
    "    train_3, test_3 = create_data_prophet(data_3)\n",
    "    df_3 = pd.DataFrame()\n",
    "    pro_regressor_3 = np.nan\n",
    "    if len(test_3)>4 & (len(train_3)>7):\n",
    "        X_test_3 = test_3[['ds', 'Inf count', 'WeekDay', 'Weekend', 'Launch_Event', 'BOGO_Event', 'Other_Event','Facebook FOLLOWERS COUNT', 'Instagram FOLLOWERS COUNT', 'Twitch FOLLOWERS COUNT', 'Twitter FOLLOWERS COUNT', 'YouTube FOLLOWERS COUNT']]\n",
    "       \n",
    "        #Additional Regressor\n",
    "        pro_regressor_3 = Prophet()\n",
    "        pro_regressor_3.add_regressor('Inf count')\n",
    "        pro_regressor_3.add_regressor('WeekDay')\n",
    "        pro_regressor_3.add_regressor('Weekend')\n",
    "        pro_regressor_3.add_regressor('Launch_Event')\n",
    "        pro_regressor_3.add_regressor('BOGO_Event')\n",
    "        pro_regressor_3.add_regressor('Other_Event')\n",
    "        pro_regressor_3.add_regressor('Facebook FOLLOWERS COUNT')\n",
    "        pro_regressor_3.add_regressor('Instagram FOLLOWERS COUNT')\n",
    "        pro_regressor_3.add_regressor('Twitch FOLLOWERS COUNT')\n",
    "        pro_regressor_3.add_regressor('Twitter FOLLOWERS COUNT')\n",
    "        pro_regressor_3.add_regressor('YouTube FOLLOWERS COUNT')\n",
    "        pro_regressor_3.fit(train_3)\n",
    "\n",
    "        \n",
    "        pred = pro_regressor_3.predict(X_test_3)[['ds','yhat']]\n",
    "        \n",
    "        df_3 = pred.merge(test_3[['ds','y']], how='inner', on='ds')\n",
    "        \n",
    "       \n",
    "        pred = pd.DataFrame(pred)\n",
    "       # pred_ci = pd.DataFrame()\n",
    "      #  pred_ci = result.get_forecast(len(test),\n",
    "     #                                exog=train[['Inf count','WeekDay', 'Weekend', 'Launch_Event', 'BOGO_Event','Other_Event']].values)\n",
    "        #pred.index= test.index\n",
    "       # pred_ci.index = test.index\n",
    "        \n",
    "        df_3['model']= 'multi_prophet'\n",
    "\n",
    "    return df_3, pro_regressor_3, test_3\n"
   ]
  },
  {
   "cell_type": "code",
   "execution_count": 65,
   "metadata": {},
   "outputs": [],
   "source": [
    "def mean_absolute_percentage_error(y_true, y_pred): \n",
    "    y_true, y_pred = np.array(y_true), np.array(y_pred)\n",
    "    return np.mean(np.abs((y_true - y_pred) / y_true)) * 100"
   ]
  },
  {
   "cell_type": "code",
   "execution_count": 66,
   "metadata": {},
   "outputs": [],
   "source": [
    "def selecting_best_model(df):\n",
    "    df_0 = df.copy()\n",
    "    \n",
    "    #df = df.groupby(['model','SKU', 'Year', 'Month']).sum()[['y', 'yhat']]\n",
    "    \n",
    "    return df_0.loc[df_0.mape == df_0.mape.min(),['model']].iloc[0].values[0]\n",
    "    "
   ]
  },
  {
   "cell_type": "code",
   "execution_count": 67,
   "metadata": {},
   "outputs": [],
   "source": [
    "algorithm = ['uni_sarimax','multi_sarimax','uni_prophet', 'multi_prophet']\n",
    "#algorithm.index('multi')"
   ]
  },
  {
   "cell_type": "code",
   "execution_count": 68,
   "metadata": {},
   "outputs": [],
   "source": [
    "future_days = 120\n",
    "#model2.make_future_dataframe(future_days, freq = \"D\", include_history = False)"
   ]
  },
  {
   "cell_type": "code",
   "execution_count": 69,
   "metadata": {},
   "outputs": [
    {
     "data": {
      "text/plain": [
       "2"
      ]
     },
     "execution_count": 69,
     "metadata": {},
     "output_type": "execute_result"
    }
   ],
   "source": [
    "n_category_sku"
   ]
  },
  {
   "cell_type": "code",
   "execution_count": 70,
   "metadata": {},
   "outputs": [
    {
     "name": "stdout",
     "output_type": "stream",
     "text": [
      "DickeyFuller test results of \n",
      "ADF Test Statistic : -5.44651871889253\n",
      "p-value : 2.702900809781887e-06\n",
      "#Lags Used : 14\n",
      "Number of Observations Used : 345\n",
      "strong evidence against the null hypothesis(Ho), reject the null hypothesis. Data has no unit root and is stationary\n",
      "None\n"
     ]
    },
    {
     "data": {
      "image/png": "[encoded data removed]",
      "text/plain": [
       "<Figure size 432x288 with 1 Axes>"
      ]
     },
     "metadata": {
      "needs_background": "light"
     },
     "output_type": "display_data"
    },
    {
     "name": "stderr",
     "output_type": "stream",
     "text": [
      "INFO:fbprophet:Disabling yearly seasonality. Run prophet with yearly_seasonality=True to override this.\n",
      "INFO:fbprophet:Disabling daily seasonality. Run prophet with daily_seasonality=True to override this.\n",
      "INFO:fbprophet:Disabling yearly seasonality. Run prophet with yearly_seasonality=True to override this.\n",
      "INFO:fbprophet:Disabling daily seasonality. Run prophet with daily_seasonality=True to override this.\n",
      "INFO:fbprophet:Disabling yearly seasonality. Run prophet with yearly_seasonality=True to override this.\n",
      "INFO:fbprophet:Disabling daily seasonality. Run prophet with daily_seasonality=True to override this.\n"
     ]
    }
   ],
   "source": [
    "data.reset_index(inplace=True)\n",
    "data.drop(data.columns[0], axis=1, inplace=True)\n",
    "\n",
    "# tenure = datetime.datetime.now() - data.ds.min()\n",
    "# recency = datetime.datetime.now() - data.ds.max()\n",
    "\n",
    "data_diff = differencing(data['y'])\n",
    "if 7 not in data_diff.Shift:\n",
    "    print('No weekly seasonality in ', category_sku[i])\n",
    "    sku_stationarity.append((i,category_sku[i]))\n",
    "    print('continue')\n",
    "   # continue\n",
    "data['Seasonal First Difference'] = data['y'] - data['y'].shift(7)\n",
    "\n",
    "print(\"DickeyFuller test results of \")\n",
    "print(adfuller_test(data['Seasonal First Difference'].dropna()))\n",
    "\n",
    "autocorrelation_plot(data['y'])\n",
    "plt.show()\n",
    "\n",
    "df0 = pd.DataFrame()\n",
    "df1 = pd.DataFrame()\n",
    "df2 = pd.DataFrame()\n",
    "df3 = pd.DataFrame()\n",
    "\n",
    "df0, model0, test0, train0 = uni_sarimax(data)\n",
    "if len(train0)<=7:\n",
    "    #continue\n",
    "    print('continue')\n",
    "df1, model1, test1 = multi_sarimax(data)\n",
    "df2, model2, test2 = uni_prophet(data)\n",
    "df3, model3, test3 = multi_prophet(data)\n",
    "if (len(test0)<=4)|(len(test1)<=4)|(len(test2)<=4)|(len(test3)<=4 | len(train0)<=7):\n",
    "    #continue\n",
    "    print('continue')\n",
    "\n",
    "df0['mape'] = mean_absolute_percentage_error(df0.y, df0.yhat)\n",
    "df1['mape'] = mean_absolute_percentage_error(df1.y, df1.yhat)\n",
    "df2['mape'] = mean_absolute_percentage_error(df2.y, df2.yhat)\n",
    "df3['mape'] = mean_absolute_percentage_error(df3.y, df3.yhat)\n",
    "\n",
    "df = pd.concat([df0, df1, df2, df3])\n",
    "\n",
    "min_err_algo = selecting_best_model(df)\n",
    "\n",
    "\n",
    "if min_err_algo == algorithm[0]:\n",
    "    data.index = data.ds\n",
    "    a = sm.tsa.arma_order_select_ic(data['Seasonal First Difference'].dropna(), max_ar=6, max_ma=6, ic='aic', trend='c')\n",
    "    p= a['aic_min_order'][0]\n",
    "    q= a['aic_min_order'][1]\n",
    "    arma.append(a['aic_min_order'])\n",
    "    model = sm.tsa.statespace.SARIMAX(data['y'],\n",
    "                                  order= (p,1,q) , seasonal_order= (p,1,q,7),\n",
    "                              #,mle_regression=True, \n",
    "                                  initialization='approximate_diffuse')\n",
    "    start_params = np.r_[[0] * (model.k_params - 1), 1]\n",
    "    result = model.fit(start_params=start_params)\n",
    "    forecast = result.forecast(len(futureData))\n",
    "    forecast= pd.DataFrame(forecast, columns=['yhat'])\n",
    "    forecast.reset_index(inplace=True)\n",
    "    forecast['ds'] = futureData.ds\n",
    "elif min_err_algo == algorithm[1]:\n",
    "    data.index = data.ds\n",
    "    a = sm.tsa.arma_order_select_ic(data['Seasonal First Difference'].dropna(), max_ar=6, max_ma=6, ic='aic', trend='c')\n",
    "    p= a['aic_min_order'][0]\n",
    "    q= a['aic_min_order'][1]\n",
    "    arma.append(a['aic_min_order'])\n",
    "    model = sm.tsa.statespace.SARIMAX(data['y'],\n",
    "                                      exog=data[['Inf count','WeekDay', 'Weekend', 'Launch_Event', 'BOGO_Event','Other_Event','Facebook FOLLOWERS COUNT', 'Instagram FOLLOWERS COUNT', 'Twitch FOLLOWERS COUNT', 'Twitter FOLLOWERS COUNT', 'YouTube FOLLOWERS COUNT']].values,\n",
    "                                  order= (p,1,q) , seasonal_order= (p,1,q,7),\n",
    "                              #,mle_regression=True, \n",
    "                                  initialization='approximate_diffuse')\n",
    "    start_params = np.r_[[0] * (model.k_params - 1), 1]\n",
    "    result = model.fit(start_params=start_params)\n",
    "    forecast = result.forecast(len(futureData),\n",
    "                       exog=futureData[['Inf count','WeekDay', 'Weekend', 'Launch_Event', 'BOGO_Event','Other_Event','Facebook FOLLOWERS COUNT', 'Instagram FOLLOWERS COUNT', 'Twitch FOLLOWERS COUNT', 'Twitter FOLLOWERS COUNT', 'YouTube FOLLOWERS COUNT']].values)\n",
    "    forecast= pd.DataFrame(forecast, columns=['yhat'])\n",
    "    forecast.reset_index(inplace=True)\n",
    "    forecast['ds'] = futureData.ds\n",
    "elif min_err_algo == algorithm[2]:\n",
    "    model = Prophet()\n",
    "    train = data[['ds','y']]\n",
    "    model.fit(train)\n",
    "    X_test = futureData[['ds']]\n",
    "    forecast = model.predict(X_test)[['ds','yhat']]\n",
    "else:\n",
    "    model = Prophet()\n",
    "    model.add_regressor('Inf count')\n",
    "    model.add_regressor('WeekDay')\n",
    "    model.add_regressor('Weekend')\n",
    "    model.add_regressor('Launch_Event')\n",
    "    model.add_regressor('BOGO_Event')\n",
    "    model.add_regressor('Other_Event')\n",
    "    model.add_regressor('Facebook')\n",
    "    model.add_regressor('Instagram')\n",
    "    model.add_regressor('Twitch')\n",
    "    model.add_regressor('Twitter')\n",
    "    model.add_regressor('YouTube')\n",
    "\n",
    "    model.fit(data)\n",
    "\n",
    "    X_test = futureData[['ds', 'Inf count', 'WeekDay', 'Weekend', 'Launch_Event', 'BOGO_Event', 'Other_Event',\n",
    "                         'Facebook', 'Instagram', 'Twitch', 'Twitter', 'YouTube']]\n",
    "    forecast = model.predict(X_test)[['ds','yhat']]\n",
    "\n",
    "forecast['Launch Date']= data.ds.min()\n",
    "\n",
    "\n",
    "\n",
    "\n",
    "\n",
    "#   test['forecast_s']=pred\n",
    "#   test[['Qty','forecast_s']].plot(figsize=(12,8))\n",
    "forecast.to_excel(r'Predictions\\merged-pdp.xlsx', index=False)"
   ]
  },
  {
   "cell_type": "code",
   "execution_count": 24,
   "metadata": {
    "scrolled": true
   },
   "outputs": [
    {
     "name": "stdout",
     "output_type": "stream",
     "text": [
      "DickeyFuller test results of  CB-BM1\n",
      "ADF Test Statistic : -2.7365887308232275\n",
      "p-value : 0.06791798470907011\n",
      "#Lags Used : 12\n",
      "Number of Observations Used : 59\n",
      "weak evidence against null hypothesis, time series has a unit root, indicating it is non-stationary \n",
      "None\n"
     ]
    },
    {
     "data": {
      "image/png": "[encoded data removed]",
      "text/plain": [
       "<Figure size 432x288 with 1 Axes>"
      ]
     },
     "metadata": {
      "needs_background": "light"
     },
     "output_type": "display_data"
    },
    {
     "name": "stdout",
     "output_type": "stream",
     "text": [
      "DickeyFuller test results of  CB-SB1\n",
      "ADF Test Statistic : -5.892476755039402\n",
      "p-value : 2.9025812282744443e-07\n",
      "#Lags Used : 13\n",
      "Number of Observations Used : 120\n",
      "strong evidence against the null hypothesis(Ho), reject the null hypothesis. Data has no unit root and is stationary\n",
      "None\n"
     ]
    },
    {
     "data": {
      "image/png": "[encoded data removed]",
      "text/plain": [
       "<Figure size 432x288 with 1 Axes>"
      ]
     },
     "metadata": {
      "needs_background": "light"
     },
     "output_type": "display_data"
    },
    {
     "name": "stdout",
     "output_type": "stream",
     "text": [
      "DickeyFuller test results of  CB-PIX1\n",
      "ADF Test Statistic : -7.916661872563452\n",
      "p-value : 3.820067262630615e-12\n",
      "#Lags Used : 6\n",
      "Number of Observations Used : 149\n",
      "strong evidence against the null hypothesis(Ho), reject the null hypothesis. Data has no unit root and is stationary\n",
      "None\n"
     ]
    },
    {
     "data": {
      "image/png": "[encoded data removed]",
      "text/plain": [
       "<Figure size 432x288 with 1 Axes>"
      ]
     },
     "metadata": {
      "needs_background": "light"
     },
     "output_type": "display_data"
    },
    {
     "name": "stderr",
     "output_type": "stream",
     "text": [
      "INFO:fbprophet:Disabling yearly seasonality. Run prophet with yearly_seasonality=True to override this.\n",
      "INFO:fbprophet:Disabling daily seasonality. Run prophet with daily_seasonality=True to override this.\n",
      "INFO:fbprophet:Disabling yearly seasonality. Run prophet with yearly_seasonality=True to override this.\n",
      "INFO:fbprophet:Disabling daily seasonality. Run prophet with daily_seasonality=True to override this.\n",
      "INFO:fbprophet:Disabling yearly seasonality. Run prophet with yearly_seasonality=True to override this.\n",
      "INFO:fbprophet:Disabling daily seasonality. Run prophet with daily_seasonality=True to override this.\n"
     ]
    },
    {
     "name": "stdout",
     "output_type": "stream",
     "text": [
      "DickeyFuller test results of  CB-PDP1\n",
      "ADF Test Statistic : -1.1992958449192332\n",
      "p-value : 0.6738985482915627\n",
      "#Lags Used : 11\n",
      "Number of Observations Used : 61\n",
      "weak evidence against null hypothesis, time series has a unit root, indicating it is non-stationary \n",
      "None\n"
     ]
    },
    {
     "data": {
      "image/png": "[encoded data removed]",
      "text/plain": [
       "<Figure size 432x288 with 1 Axes>"
      ]
     },
     "metadata": {
      "needs_background": "light"
     },
     "output_type": "display_data"
    },
    {
     "name": "stderr",
     "output_type": "stream",
     "text": [
      "INFO:fbprophet:Disabling yearly seasonality. Run prophet with yearly_seasonality=True to override this.\n",
      "INFO:fbprophet:Disabling daily seasonality. Run prophet with daily_seasonality=True to override this.\n",
      "INFO:fbprophet:Disabling yearly seasonality. Run prophet with yearly_seasonality=True to override this.\n",
      "INFO:fbprophet:Disabling daily seasonality. Run prophet with daily_seasonality=True to override this.\n"
     ]
    },
    {
     "name": "stdout",
     "output_type": "stream",
     "text": [
      "DickeyFuller test results of  CB-DM1\n",
      "ADF Test Statistic : -3.0464330912430593\n",
      "p-value : 0.030779826775346773\n",
      "#Lags Used : 8\n",
      "Number of Observations Used : 50\n",
      "strong evidence against the null hypothesis(Ho), reject the null hypothesis. Data has no unit root and is stationary\n",
      "None\n"
     ]
    },
    {
     "data": {
      "image/png": "[encoded data removed]",
      "text/plain": [
       "<Figure size 432x288 with 1 Axes>"
      ]
     },
     "metadata": {
      "needs_background": "light"
     },
     "output_type": "display_data"
    },
    {
     "name": "stderr",
     "output_type": "stream",
     "text": [
      "INFO:fbprophet:Disabling yearly seasonality. Run prophet with yearly_seasonality=True to override this.\n",
      "INFO:fbprophet:Disabling daily seasonality. Run prophet with daily_seasonality=True to override this.\n",
      "INFO:fbprophet:Disabling yearly seasonality. Run prophet with yearly_seasonality=True to override this.\n",
      "INFO:fbprophet:Disabling daily seasonality. Run prophet with daily_seasonality=True to override this.\n"
     ]
    },
    {
     "name": "stdout",
     "output_type": "stream",
     "text": [
      "DickeyFuller test results of  CB-SD1\n",
      "ADF Test Statistic : -3.5496319127606775\n",
      "p-value : 0.006800266774413152\n",
      "#Lags Used : 11\n",
      "Number of Observations Used : 44\n",
      "strong evidence against the null hypothesis(Ho), reject the null hypothesis. Data has no unit root and is stationary\n",
      "None\n"
     ]
    },
    {
     "data": {
      "image/png": "[encoded data removed]",
      "text/plain": [
       "<Figure size 432x288 with 1 Axes>"
      ]
     },
     "metadata": {
      "needs_background": "light"
     },
     "output_type": "display_data"
    },
    {
     "name": "stderr",
     "output_type": "stream",
     "text": [
      "INFO:fbprophet:Disabling yearly seasonality. Run prophet with yearly_seasonality=True to override this.\n",
      "INFO:fbprophet:Disabling daily seasonality. Run prophet with daily_seasonality=True to override this.\n",
      "INFO:fbprophet:Disabling yearly seasonality. Run prophet with yearly_seasonality=True to override this.\n",
      "INFO:fbprophet:Disabling daily seasonality. Run prophet with daily_seasonality=True to override this.\n"
     ]
    }
   ],
   "source": [
    "\n",
    "for i in range(n_category_sku):\n",
    "    data = category_data.loc[category_data.SKU == category_sku[i], ['ds', 'y', 'Inf count', 'WeekDay',\n",
    "                                                     'Weekend', 'Launch_Event', 'BOGO_Event', 'Other_Event',\n",
    "                                                                    'Facebook FOLLOWERS COUNT', 'Instagram FOLLOWERS COUNT', 'Twitch FOLLOWERS COUNT', 'Twitter FOLLOWERS COUNT', 'YouTube FOLLOWERS COUNT']]\n",
    "    data.reset_index(inplace=True)\n",
    "    data.drop(data.columns[0], axis=1, inplace=True)\n",
    "    \n",
    "   # tenure = datetime.datetime.now() - data.ds.min()\n",
    "   # recency = datetime.datetime.now() - data.ds.max()\n",
    "    \n",
    "    if len(data)>=30:\n",
    "        data_diff = differencing(data['y'])\n",
    "        if 7 not in data_diff.Shift:\n",
    "            print('No weekly seasonality in ', category_sku[i])\n",
    "            sku_stationarity.append((i,category_sku[i]))\n",
    "            continue\n",
    "        data['Seasonal First Difference'] = data['y'] - data['y'].shift(7)\n",
    "\n",
    "        print(\"DickeyFuller test results of \",category_sku[i])\n",
    "        print(adfuller_test(data['Seasonal First Difference'].dropna()))\n",
    "\n",
    "        autocorrelation_plot(data['y'])\n",
    "        plt.show()\n",
    "\n",
    "        df0 = pd.DataFrame()\n",
    "        df1 = pd.DataFrame()\n",
    "        df2 = pd.DataFrame()\n",
    "        df3 = pd.DataFrame()\n",
    "\n",
    "        df0, model0, test0, train0 = uni_sarimax(data)\n",
    "        if len(train0)<=7:\n",
    "            continue\n",
    "        df1, model1, test1 = multi_sarimax(data)\n",
    "        df2, model2, test2 = uni_prophet(data)\n",
    "        df3, model3, test3 = multi_prophet(data)\n",
    "        if (len(test0)<=4)|(len(test1)<=4)|(len(test2)<=4)|(len(test3)<=4 | len(train0)<=7):\n",
    "            continue\n",
    "\n",
    "        df0['mape'] = mean_absolute_percentage_error(df0.y, df0.yhat)\n",
    "        df1['mape'] = mean_absolute_percentage_error(df1.y, df1.yhat)\n",
    "        df2['mape'] = mean_absolute_percentage_error(df2.y, df2.yhat)\n",
    "        df3['mape'] = mean_absolute_percentage_error(df3.y, df3.yhat)\n",
    "\n",
    "        df = pd.concat([df0, df1, df2, df3])\n",
    "\n",
    "        min_err_algo = selecting_best_model(df)\n",
    "\n",
    "\n",
    "        if min_err_algo == algorithm[0]:\n",
    "            data.index = data.ds\n",
    "            a = sm.tsa.arma_order_select_ic(data['Seasonal First Difference'].dropna(), max_ar=6, max_ma=6, ic='aic', trend='c')\n",
    "            p= a['aic_min_order'][0]\n",
    "            q= a['aic_min_order'][1]\n",
    "            arma.append(a['aic_min_order'])\n",
    "            model = sm.tsa.statespace.SARIMAX(data['y'],\n",
    "                                          order= (p,1,q) , seasonal_order= (p,1,q,7),\n",
    "                                      #,mle_regression=True, \n",
    "                                          initialization='approximate_diffuse')\n",
    "            start_params = np.r_[[0] * (model.k_params - 1), 1]\n",
    "            result = model.fit(start_params=start_params)\n",
    "            forecast = result.forecast(len(futureData))\n",
    "            forecast= pd.DataFrame(forecast, columns=['yhat'])\n",
    "            forecast.reset_index(inplace=True)\n",
    "            forecast['ds'] = futureData.ds\n",
    "        elif min_err_algo == algorithm[1]:\n",
    "            data.index = data.ds\n",
    "            a = sm.tsa.arma_order_select_ic(data['Seasonal First Difference'].dropna(), max_ar=6, max_ma=6, ic='aic', trend='c')\n",
    "            p= a['aic_min_order'][0]\n",
    "            q= a['aic_min_order'][1]\n",
    "            arma.append(a['aic_min_order'])\n",
    "            model = sm.tsa.statespace.SARIMAX(data['y'],\n",
    "                                              exog=data[['Inf count','WeekDay', 'Weekend', 'Launch_Event', 'BOGO_Event','Other_Event','Facebook FOLLOWERS COUNT', 'Instagram FOLLOWERS COUNT', 'Twitch FOLLOWERS COUNT', 'Twitter FOLLOWERS COUNT', 'YouTube FOLLOWERS COUNT']].values,\n",
    "                                          order= (p,1,q) , seasonal_order= (p,1,q,7),\n",
    "                                      #,mle_regression=True, \n",
    "                                          initialization='approximate_diffuse')\n",
    "            start_params = np.r_[[0] * (model.k_params - 1), 1]\n",
    "            result = model.fit(start_params=start_params)\n",
    "            forecast = result.forecast(len(futureData),\n",
    "                               exog=futureData[['Inf count','WeekDay', 'Weekend', 'Launch_Event', 'BOGO_Event','Other_Event','Facebook FOLLOWERS COUNT', 'Instagram FOLLOWERS COUNT', 'Twitch FOLLOWERS COUNT', 'Twitter FOLLOWERS COUNT', 'YouTube FOLLOWERS COUNT']].values)\n",
    "            forecast= pd.DataFrame(forecast, columns=['yhat'])\n",
    "            forecast.reset_index(inplace=True)\n",
    "            forecast['ds'] = futureData.ds\n",
    "        elif min_err_algo == algorithm[2]:\n",
    "            model = Prophet()\n",
    "            train = data[['ds','y']]\n",
    "            model.fit(train)\n",
    "            X_test = futureData[['ds']]\n",
    "            forecast = model.predict(X_test)[['ds','yhat']]\n",
    "        else:\n",
    "            model = Prophet()\n",
    "            model.add_regressor('Inf count')\n",
    "            model.add_regressor('WeekDay')\n",
    "            model.add_regressor('Weekend')\n",
    "            model.add_regressor('Launch_Event')\n",
    "            model.add_regressor('BOGO_Event')\n",
    "            model.add_regressor('Other_Event')\n",
    "            model.add_regressor('Facebook FOLLOWERS COUNT')\n",
    "            model.add_regressor('Instagram FOLLOWERS COUNT')\n",
    "            model.add_regressor('Twitch FOLLOWERS COUNT')\n",
    "            model.add_regressor('Twitter FOLLOWERS COUNT')\n",
    "            model.add_regressor('YouTube FOLLOWERS COUNT')\n",
    "\n",
    "            model.fit(data)\n",
    "\n",
    "            X_test = futureData[['ds', 'Inf count', 'WeekDay', 'Weekend', 'Launch_Event', 'BOGO_Event', 'Other_Event',\n",
    "                                 'Facebook FOLLOWERS COUNT', 'Instagram FOLLOWERS COUNT', 'Twitch FOLLOWERS COUNT', 'Twitter FOLLOWERS COUNT', 'YouTube FOLLOWERS COUNT']]\n",
    "            forecast = model.predict(X_test)[['ds','yhat']]\n",
    "            \n",
    "        forecast['Launch Date']= data.ds.min()\n",
    "\n",
    "\n",
    "\n",
    "\n",
    "\n",
    "     #   test['forecast_s']=pred\n",
    "     #   test[['Qty','forecast_s']].plot(figsize=(12,8))\n",
    "        forecast.to_excel(r'Predictions\\predicted '+str(category_sku[i])+'.xlsx', index=False)\n",
    "        #del test\n",
    "        #del train\n",
    "        del data\n",
    "\n",
    "      #  continue\n",
    "        "
   ]
  },
  {
   "cell_type": "code",
   "execution_count": 25,
   "metadata": {},
   "outputs": [
    {
     "data": {
      "text/plain": [
       "7"
      ]
     },
     "execution_count": 25,
     "metadata": {},
     "output_type": "execute_result"
    }
   ],
   "source": [
    "i"
   ]
  },
  {
   "cell_type": "code",
   "execution_count": 26,
   "metadata": {},
   "outputs": [
    {
     "ename": "NameError",
     "evalue": "name 'data' is not defined",
     "output_type": "error",
     "traceback": [
      "\u001b[1;31m---------------------------------------------------------------------------\u001b[0m",
      "\u001b[1;31mNameError\u001b[0m                                 Traceback (most recent call last)",
      "\u001b[1;32m<ipython-input-26-c5d84736ba45>\u001b[0m in \u001b[0;36m<module>\u001b[1;34m\u001b[0m\n\u001b[1;32m----> 1\u001b[1;33m \u001b[0mdata\u001b[0m\u001b[1;33m\u001b[0m\u001b[1;33m\u001b[0m\u001b[0m\n\u001b[0m",
      "\u001b[1;31mNameError\u001b[0m: name 'data' is not defined"
     ]
    }
   ],
   "source": [
    "data"
   ]
  },
  {
   "cell_type": "code",
   "execution_count": null,
   "metadata": {},
   "outputs": [],
   "source": []
  }
 ],
 "metadata": {
  "kernelspec": {
   "display_name": "Python 3",
   "language": "python",
   "name": "python3"
  },
  "language_info": {
   "codemirror_mode": {
    "name": "ipython",
    "version": 3
   },
   "file_extension": ".py",
   "mimetype": "text/x-python",
   "name": "python",
   "nbconvert_exporter": "python",
   "pygments_lexer": "ipython3",
   "version": "3.7.6"
  }
 },
 "nbformat": 4,
 "nbformat_minor": 4
}
